{
 "cells": [
  {
   "cell_type": "markdown",
   "id": "72a6181f",
   "metadata": {},
   "source": [
    "# DSCI 521 - EMPLOYEE RETENTION"
   ]
  },
  {
   "cell_type": "markdown",
   "id": "fca2ba6b",
   "metadata": {},
   "source": [
    "# README FILE"
   ]
  },
  {
   "cell_type": "markdown",
   "id": "fa770916",
   "metadata": {},
   "source": [
    "## Introduction"
   ]
  },
  {
   "cell_type": "markdown",
   "id": "1f23f135",
   "metadata": {},
   "source": [
    "Employee attrition, often known as voluntary turnover, is a significant issue for businesses since it impacts not just productivity and work sustainability, but also long-term growth objectives. When we consider the time, it takes to interview and locate a successor, placement fees, sign-on incentives, and the loss of production for many months, the cost of replacing a person may easily exceed a big amount. It's only logical that data science has begun to be used in this domain. Understanding why and when workers are most likely to depart can help you take steps to enhance retention and plan ahead for future hires. People analytics or people data science are terms used to describe this type of data science application. People analytics helps companies, and their human resources (HR) professionals minimize attrition by transforming the way they recruit and retain talent in the age of data science and big data analytics."
   ]
  },
  {
   "cell_type": "markdown",
   "id": "a2470054",
   "metadata": {},
   "source": [
    "## Team Members"
   ]
  },
  {
   "cell_type": "markdown",
   "id": "95c67d55",
   "metadata": {},
   "source": [
    "Gowtham Vaddanam (gv336@drexel.edu) – worked on exploratory data analysis\n",
    "\n",
    "Vidya Chenji(vc442@drexel.edu) - worked on the predictive modelling\n",
    "\n",
    "Grace Sigalla (gas83@drexel.edu) – creation of the presentation and review of the data analysis and modelling\n",
    "\n",
    "Sreerekha Rajendran (sr3547@drexel.edu) – creation of the presentation and review of data analysis and modelling\n",
    "\n",
    "\n",
    "\n",
    "Overall, all group members had a part to play in every step that was taken in order to make this project a success.\n"
   ]
  },
  {
   "cell_type": "markdown",
   "id": "05473cb7",
   "metadata": {},
   "source": [
    "## Use Cases"
   ]
  },
  {
   "cell_type": "markdown",
   "id": "f5611d6e",
   "metadata": {},
   "source": [
    "This project and research is to be used by employers. The results from this project will be useful in providing insights into current and potential performance of individual employees. Help to determine each employee's risk of leaving. Give a score for each employee that indicates their risk of voluntarily leaving the organization. the data can be used to create relevant insights that can be tailored to the company's culture, salary plans, incentive programs, and other factors. And also give a holistic perspective of the organization as a whole."
   ]
  },
  {
   "cell_type": "markdown",
   "id": "e0bafd46",
   "metadata": {},
   "source": [
    "## Libraries and Tools Used"
   ]
  },
  {
   "cell_type": "markdown",
   "id": "676ddbcd",
   "metadata": {},
   "source": [
    "Pandas"
   ]
  },
  {
   "cell_type": "markdown",
   "id": "0f68f27c",
   "metadata": {},
   "source": [
    "Numpy"
   ]
  },
  {
   "cell_type": "markdown",
   "id": "fc79859c",
   "metadata": {},
   "source": [
    "Matplotlib"
   ]
  },
  {
   "cell_type": "markdown",
   "id": "994c30b4",
   "metadata": {},
   "source": [
    "Scipy"
   ]
  },
  {
   "cell_type": "markdown",
   "id": "744d7ce5",
   "metadata": {},
   "source": [
    "Sklearn"
   ]
  },
  {
   "cell_type": "markdown",
   "id": "2085c7c2",
   "metadata": {},
   "source": [
    "Seaborn"
   ]
  },
  {
   "cell_type": "markdown",
   "id": "0d73ec4c",
   "metadata": {},
   "source": [
    "## Data Used"
   ]
  },
  {
   "cell_type": "markdown",
   "id": "1e38f5a2",
   "metadata": {},
   "source": [
    "This is a fictional data set created by IBM data scientists. The dataset is obtained from the kaggle website which is an open source.\n",
    "\n",
    "Link to dataset: https://www.kaggle.com/pavansubhasht/ibm-hr-analytics-attrition-dataset"
   ]
  },
  {
   "cell_type": "markdown",
   "id": "6399ec5c",
   "metadata": {},
   "source": [
    "## Limitations"
   ]
  },
  {
   "cell_type": "markdown",
   "id": "29b71f5d",
   "metadata": {},
   "source": [
    "Our data analysis is limited to only one specific company, IBM, using information we found on Kaggle. Our research and analysis is solely based on determining the main causes of employee turnover, and what can be done to promote employee retention.\n",
    "\n",
    "Potential improvements include doing further analysis to determine better strategies to be taken in order to improve employee retention and in return, reduce turnover. Such as different means of incentives, and who and when is it best to reward an employee before it is too late. Also, an additional factor that one can do data analysis on is the effect of COVID-19 as a major cause of employee attrition."
   ]
  },
  {
   "cell_type": "markdown",
   "id": "14aabb17",
   "metadata": {},
   "source": [
    "## Conclusion"
   ]
  },
  {
   "cell_type": "markdown",
   "id": "a6ab8114",
   "metadata": {},
   "source": [
    "The usage of data analytics in this area may help businesses target high-risk and high-performing individuals for retention initiatives, and it can even help them make evidence-based decisions about incentive payments and equity grant distributions. In today's fast-changing and highly competitive world, this knowledge is vital.  \n",
    "\n",
    "We believe that this project will provide us with a substantial chance to improve our data analysis abilities. As mentioned above, when used to measure the risk of keeping an organization's most valuable personnel, data analytics may offer substantial advantages over traditional techniques. Hence, this project can help us strengthen the skills that we learn throughout this course. "
   ]
  }
 ],
 "metadata": {
  "kernelspec": {
   "display_name": "Python 3",
   "language": "python",
   "name": "python3"
  },
  "language_info": {
   "codemirror_mode": {
    "name": "ipython",
    "version": 3
   },
   "file_extension": ".py",
   "mimetype": "text/x-python",
   "name": "python",
   "nbconvert_exporter": "python",
   "pygments_lexer": "ipython3",
   "version": "3.8.8"
  }
 },
 "nbformat": 4,
 "nbformat_minor": 5
}
